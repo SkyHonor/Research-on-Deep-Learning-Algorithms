{
  "nbformat": 4,
  "nbformat_minor": 0,
  "metadata": {
    "colab": {
      "provenance": [],
      "gpuType": "T4",
      "include_colab_link": true
    },
    "kernelspec": {
      "name": "python3",
      "display_name": "Python 3"
    },
    "language_info": {
      "name": "python"
    },
    "accelerator": "GPU"
  },
  "cells": [
    {
      "cell_type": "markdown",
      "metadata": {
        "id": "view-in-github",
        "colab_type": "text"
      },
      "source": [
        "<a href=\"https://colab.research.google.com/github/SkyHonor/Research-on-Deep-Learning-Algorithms/blob/main/one-shot-learning/sphere-net/ArcFace.ipynb\" target=\"_parent\"><img src=\"https://colab.research.google.com/assets/colab-badge.svg\" alt=\"Open In Colab\"/></a>"
      ]
    },
    {
      "cell_type": "code",
      "execution_count": null,
      "metadata": {
        "id": "pSlqYjzAchod",
        "outputId": "2d60a8f6-797e-447b-9c25-2a4d1b4fc011",
        "colab": {
          "base_uri": "https://localhost:8080/",
          "height": 356
        }
      },
      "outputs": [
        {
          "output_type": "error",
          "ename": "KeyboardInterrupt",
          "evalue": "",
          "traceback": [
            "\u001b[0;31m---------------------------------------------------------------------------\u001b[0m",
            "\u001b[0;31mKeyboardInterrupt\u001b[0m                         Traceback (most recent call last)",
            "\u001b[0;32m<ipython-input-1-9849bf196167>\u001b[0m in \u001b[0;36m<cell line: 1>\u001b[0;34m()\u001b[0m\n\u001b[0;32m----> 1\u001b[0;31m \u001b[0;32mimport\u001b[0m \u001b[0mtorchvision\u001b[0m\u001b[0;34m.\u001b[0m\u001b[0mtransforms\u001b[0m \u001b[0;32mas\u001b[0m \u001b[0mtransforms\u001b[0m\u001b[0;34m\u001b[0m\u001b[0;34m\u001b[0m\u001b[0m\n\u001b[0m\u001b[1;32m      2\u001b[0m \u001b[0;32mimport\u001b[0m \u001b[0mtorchvision\u001b[0m\u001b[0;34m.\u001b[0m\u001b[0mdatasets\u001b[0m \u001b[0;32mas\u001b[0m \u001b[0mdatasets\u001b[0m\u001b[0;34m\u001b[0m\u001b[0;34m\u001b[0m\u001b[0m\n\u001b[1;32m      3\u001b[0m \u001b[0;32mfrom\u001b[0m \u001b[0mtorch\u001b[0m\u001b[0;34m.\u001b[0m\u001b[0mutils\u001b[0m\u001b[0;34m.\u001b[0m\u001b[0mdata\u001b[0m \u001b[0;32mimport\u001b[0m \u001b[0mDataLoader\u001b[0m\u001b[0;34m,\u001b[0m \u001b[0mDataset\u001b[0m\u001b[0;34m\u001b[0m\u001b[0;34m\u001b[0m\u001b[0m\n\u001b[1;32m      4\u001b[0m \u001b[0;32mimport\u001b[0m \u001b[0mrandom\u001b[0m\u001b[0;34m\u001b[0m\u001b[0;34m\u001b[0m\u001b[0m\n\u001b[1;32m      5\u001b[0m \u001b[0;32mimport\u001b[0m \u001b[0mnumpy\u001b[0m \u001b[0;32mas\u001b[0m \u001b[0mnp\u001b[0m\u001b[0;34m\u001b[0m\u001b[0;34m\u001b[0m\u001b[0m\n",
            "\u001b[0;32m/usr/local/lib/python3.10/dist-packages/torchvision/__init__.py\u001b[0m in \u001b[0;36m<module>\u001b[0;34m\u001b[0m\n\u001b[1;32m      3\u001b[0m \u001b[0;32mfrom\u001b[0m \u001b[0mmodulefinder\u001b[0m \u001b[0;32mimport\u001b[0m \u001b[0mModule\u001b[0m\u001b[0;34m\u001b[0m\u001b[0;34m\u001b[0m\u001b[0m\n\u001b[1;32m      4\u001b[0m \u001b[0;34m\u001b[0m\u001b[0m\n\u001b[0;32m----> 5\u001b[0;31m \u001b[0;32mimport\u001b[0m \u001b[0mtorch\u001b[0m\u001b[0;34m\u001b[0m\u001b[0;34m\u001b[0m\u001b[0m\n\u001b[0m\u001b[1;32m      6\u001b[0m \u001b[0;32mfrom\u001b[0m \u001b[0mtorchvision\u001b[0m \u001b[0;32mimport\u001b[0m \u001b[0m_meta_registrations\u001b[0m\u001b[0;34m,\u001b[0m \u001b[0mdatasets\u001b[0m\u001b[0;34m,\u001b[0m \u001b[0mio\u001b[0m\u001b[0;34m,\u001b[0m \u001b[0mmodels\u001b[0m\u001b[0;34m,\u001b[0m \u001b[0mops\u001b[0m\u001b[0;34m,\u001b[0m \u001b[0mtransforms\u001b[0m\u001b[0;34m,\u001b[0m \u001b[0mutils\u001b[0m\u001b[0;34m\u001b[0m\u001b[0;34m\u001b[0m\u001b[0m\n\u001b[1;32m      7\u001b[0m \u001b[0;34m\u001b[0m\u001b[0m\n",
            "\u001b[0;32m/usr/local/lib/python3.10/dist-packages/torch/__init__.py\u001b[0m in \u001b[0;36m<module>\u001b[0;34m\u001b[0m\n\u001b[1;32m    235\u001b[0m     \u001b[0;32mif\u001b[0m \u001b[0mUSE_GLOBAL_DEPS\u001b[0m\u001b[0;34m:\u001b[0m\u001b[0;34m\u001b[0m\u001b[0;34m\u001b[0m\u001b[0m\n\u001b[1;32m    236\u001b[0m         \u001b[0m_load_global_deps\u001b[0m\u001b[0;34m(\u001b[0m\u001b[0;34m)\u001b[0m\u001b[0;34m\u001b[0m\u001b[0;34m\u001b[0m\u001b[0m\n\u001b[0;32m--> 237\u001b[0;31m     \u001b[0;32mfrom\u001b[0m \u001b[0mtorch\u001b[0m\u001b[0;34m.\u001b[0m\u001b[0m_C\u001b[0m \u001b[0;32mimport\u001b[0m \u001b[0;34m*\u001b[0m  \u001b[0;31m# noqa: F403\u001b[0m\u001b[0;34m\u001b[0m\u001b[0;34m\u001b[0m\u001b[0m\n\u001b[0m\u001b[1;32m    238\u001b[0m \u001b[0;34m\u001b[0m\u001b[0m\n\u001b[1;32m    239\u001b[0m \u001b[0;31m# Appease the type checker; ordinarily this binding is inserted by the\u001b[0m\u001b[0;34m\u001b[0m\u001b[0;34m\u001b[0m\u001b[0m\n",
            "\u001b[0;31mKeyboardInterrupt\u001b[0m: "
          ]
        }
      ],
      "source": [
        "import torchvision.transforms as transforms\n",
        "import torchvision.datasets as datasets\n",
        "from torch.utils.data import DataLoader, Dataset\n",
        "import random\n",
        "import numpy as np\n",
        "import torch\n",
        "from PIL import Image, ImageFile\n",
        "\n",
        "!wget http://usrbb.ru/botainika/Pepper.zip\n",
        "!unzip Pepper.zip\n",
        "\n",
        "\n",
        "transformation = transforms.Compose([transforms.Resize((256,256)),\n",
        "                                     transforms.ToTensor()\n",
        "                                    ])\n",
        "\n",
        "data_path = datasets.ImageFolder(root=\"Pepper\", transform = transformation)\n",
        "\n",
        "train_dataloader = DataLoader(data_path,\n",
        "                        shuffle=True,\n",
        "                        num_workers=1,\n",
        "                        batch_size=16)"
      ]
    },
    {
      "cell_type": "code",
      "source": [
        "from torchvision import models\n",
        "import torch.nn as nn\n",
        "\n",
        "class SiameseNetwork(nn.Module):\n",
        "\n",
        "    def __init__(self):\n",
        "        super(SiameseNetwork, self).__init__()\n",
        "\n",
        "        self.cnn1 = models.resnet50(pretrained=True)\n",
        "\n",
        "        self.cnn1.fc = nn.Sequential(\n",
        "            nn.Linear(self.cnn1.fc.in_features, 1280),\n",
        "        )\n",
        "\n",
        "    def forward(self, x):\n",
        "        output = self.cnn1.conv1(x)\n",
        "        output = self.cnn1.bn1(output)\n",
        "        output = self.cnn1.relu(output)\n",
        "        output = self.cnn1.maxpool(output)\n",
        "        output = self.cnn1.layer1(output)\n",
        "        output = self.cnn1.layer2(output)\n",
        "        output = self.cnn1.layer3(output)\n",
        "        output = self.cnn1.layer4(output)\n",
        "        output = self.cnn1.avgpool(output)\n",
        "        output = torch.flatten(output, 1)\n",
        "        output = self.cnn1.fc(output)\n",
        "        return output"
      ],
      "metadata": {
        "id": "pr7P4TPqdlPk"
      },
      "execution_count": null,
      "outputs": []
    },
    {
      "cell_type": "markdown",
      "source": [
        "ArcFaceLoss"
      ],
      "metadata": {
        "id": "-mDM2U1EphES"
      }
    },
    {
      "cell_type": "code",
      "source": [
        "import torch\n",
        "import torch.nn as nn\n",
        "import torch.nn.functional as F\n",
        "\n",
        "class ArcFaceLoss(nn.Module):\n",
        "    def __init__(self, embedding_size=1280, num_classes=10, margin=0.5, scale=30.0):\n",
        "        super(ArcFaceLoss, self).__init__()\n",
        "        self.embedding_size = embedding_size\n",
        "        self.num_classes = num_classes\n",
        "        self.margin = margin\n",
        "        self.scale = scale\n",
        "        self.weight = nn.Parameter(torch.FloatTensor(num_classes, embedding_size))\n",
        "        nn.init.xavier_uniform_(self.weight)\n",
        "\n",
        "    def forward(self, features, labels):\n",
        "        features = F.normalize(features, p=2, dim=1)\n",
        "        weights = F.normalize(self.weight, p=2, dim=1)\n",
        "\n",
        "        features, weights = features.cuda(), weights.cuda()\n",
        "\n",
        "        scores = F.linear(features, weights)\n",
        "\n",
        "        mask = F.one_hot(labels, num_classes=self.num_classes).to(torch.bool)\n",
        "        masked_scores = torch.masked_select(scores, mask)\n",
        "\n",
        "        m_cos_theta = scores - self.margin\n",
        "        m_cos_theta[mask] = masked_scores - self.margin\n",
        "\n",
        "        m_cos_theta *= self.scale\n",
        "\n",
        "        softmax_loss = F.cross_entropy(m_cos_theta, labels)\n",
        "\n",
        "        return softmax_loss\n"
      ],
      "metadata": {
        "id": "rbnB0OJ3dmFY"
      },
      "execution_count": null,
      "outputs": []
    },
    {
      "cell_type": "code",
      "source": [
        "from torch import optim\n",
        "\n",
        "net = SiameseNetwork().cuda()\n",
        "criterion = ArcFaceLoss()\n",
        "optimizer = optim.Adam(net.parameters(), lr = 0.0001 )\n",
        "\n",
        "epochs = 30\n",
        "counter = []\n",
        "loss_history = []\n",
        "iteration_number= 0"
      ],
      "metadata": {
        "id": "Y0wkEt8-dtSj",
        "colab": {
          "base_uri": "https://localhost:8080/"
        },
        "outputId": "eceb2c23-a5f7-4c30-f606-fafc66523b2b"
      },
      "execution_count": null,
      "outputs": [
        {
          "output_type": "stream",
          "name": "stderr",
          "text": [
            "/usr/local/lib/python3.10/dist-packages/torchvision/models/_utils.py:208: UserWarning: The parameter 'pretrained' is deprecated since 0.13 and may be removed in the future, please use 'weights' instead.\n",
            "  warnings.warn(\n",
            "/usr/local/lib/python3.10/dist-packages/torchvision/models/_utils.py:223: UserWarning: Arguments other than a weight enum or `None` for 'weights' are deprecated since 0.13 and may be removed in the future. The current behavior is equivalent to passing `weights=ResNet50_Weights.IMAGENET1K_V1`. You can also use `weights=ResNet50_Weights.DEFAULT` to get the most up-to-date weights.\n",
            "  warnings.warn(msg)\n",
            "Downloading: \"https://download.pytorch.org/models/resnet50-0676ba61.pth\" to /root/.cache/torch/hub/checkpoints/resnet50-0676ba61.pth\n",
            "100%|██████████| 97.8M/97.8M [00:04<00:00, 25.0MB/s]\n"
          ]
        }
      ]
    },
    {
      "cell_type": "code",
      "source": [
        "import matplotlib.pyplot as plt\n",
        "for epoch in range(30):\n",
        "\n",
        "    for i, (inputs, labels) in enumerate(train_dataloader, 0):\n",
        "\n",
        "        inputs, labels = inputs.cuda(), labels.cuda()\n",
        "\n",
        "        optimizer.zero_grad()\n",
        "\n",
        "        outputs = net(inputs)\n",
        "\n",
        "        loss = criterion(outputs, labels)\n",
        "\n",
        "        loss.backward()\n",
        "\n",
        "        optimizer.step()\n",
        "\n",
        "        if i % 10 == 0 :\n",
        "            print(f\"Epoch number {epoch}\\n Current loss {loss.item()}\\n\")\n",
        "            iteration_number += 10\n",
        "\n",
        "            counter.append(iteration_number)\n",
        "            loss_history.append(loss.item())\n",
        "\n",
        "plt.plot(counter, loss_history)"
      ],
      "metadata": {
        "colab": {
          "base_uri": "https://localhost:8080/",
          "height": 1000
        },
        "id": "0TV3cKHCd1x9",
        "outputId": "35d15978-fa24-4a22-d644-af5eb4a96e51"
      },
      "execution_count": null,
      "outputs": [
        {
          "output_type": "stream",
          "name": "stdout",
          "text": [
            "Epoch number 0\n",
            " Current loss 1.850390911102295\n",
            "\n",
            "Epoch number 1\n",
            " Current loss 0.12815040349960327\n",
            "\n",
            "Epoch number 2\n",
            " Current loss 0.007951777428388596\n",
            "\n",
            "Epoch number 3\n",
            " Current loss 0.004705826286226511\n",
            "\n",
            "Epoch number 4\n",
            " Current loss 0.02897350862622261\n",
            "\n",
            "Epoch number 5\n",
            " Current loss 0.000523946771863848\n",
            "\n",
            "Epoch number 6\n",
            " Current loss 0.0029707157518714666\n",
            "\n",
            "Epoch number 7\n",
            " Current loss 0.002856507198885083\n",
            "\n",
            "Epoch number 8\n",
            " Current loss 0.00047290301881730556\n",
            "\n",
            "Epoch number 9\n",
            " Current loss 0.0008805162506178021\n",
            "\n",
            "Epoch number 10\n",
            " Current loss 0.004616944119334221\n",
            "\n",
            "Epoch number 11\n",
            " Current loss 0.020870773121714592\n",
            "\n",
            "Epoch number 12\n",
            " Current loss 0.000800444046035409\n",
            "\n",
            "Epoch number 13\n",
            " Current loss 0.00014864940021652728\n",
            "\n",
            "Epoch number 14\n",
            " Current loss 0.0006157322786748409\n",
            "\n",
            "Epoch number 15\n",
            " Current loss 0.00020236433192621917\n",
            "\n",
            "Epoch number 16\n",
            " Current loss 0.009074331261217594\n",
            "\n",
            "Epoch number 17\n",
            " Current loss 0.004463331773877144\n",
            "\n",
            "Epoch number 18\n",
            " Current loss 0.0003640204085968435\n",
            "\n",
            "Epoch number 19\n",
            " Current loss 8.765374514041469e-05\n",
            "\n",
            "Epoch number 20\n",
            " Current loss 0.0007282699225470424\n",
            "\n",
            "Epoch number 21\n",
            " Current loss 0.0029399197082966566\n",
            "\n",
            "Epoch number 22\n",
            " Current loss 0.003746816422790289\n",
            "\n",
            "Epoch number 23\n",
            " Current loss 0.014818097464740276\n",
            "\n",
            "Epoch number 24\n",
            " Current loss 0.0007809562957845628\n",
            "\n",
            "Epoch number 25\n",
            " Current loss 0.0001079080902854912\n",
            "\n",
            "Epoch number 26\n",
            " Current loss 5.560478166444227e-05\n",
            "\n",
            "Epoch number 27\n",
            " Current loss 3.1634303013561293e-05\n",
            "\n",
            "Epoch number 28\n",
            " Current loss 0.0006506573408842087\n",
            "\n",
            "Epoch number 29\n",
            " Current loss 7.495462341466919e-05\n",
            "\n"
          ]
        },
        {
          "output_type": "execute_result",
          "data": {
            "text/plain": [
              "[<matplotlib.lines.Line2D at 0x7c2beac6f1f0>]"
            ]
          },
          "metadata": {},
          "execution_count": 5
        },
        {
          "output_type": "display_data",
          "data": {
            "text/plain": [
              "<Figure size 640x480 with 1 Axes>"
            ],
            "image/png": "[encoded data removed]"
          },
          "metadata": {}
        }
      ]
    },
    {
      "cell_type": "code",
      "source": [
        "from sklearn.model_selection import train_test_split\n",
        "\n",
        "train, test = train_test_split(data_path, test_size=0.2, random_state=0)\n",
        "\n",
        "train_data_size = len(train)\n",
        "test_data_size = len(test)\n",
        "\n",
        "batch_size=8\n",
        "train_data_loader = DataLoader(train, batch_size=batch_size)\n",
        "test_data_loader = DataLoader(test, batch_size=batch_size)"
      ],
      "metadata": {
        "id": "vfFASXnKOyYC"
      },
      "execution_count": null,
      "outputs": []
    },
    {
      "cell_type": "code",
      "source": [
        "transfer_model = net\n",
        "print('model copied')\n",
        "\n",
        "for param in transfer_model.parameters():\n",
        "    param.requires_grad = False\n",
        "print('weights are frozen')\n",
        "\n",
        "transfer_model.cnn1.fc = nn.Sequential(\n",
        "    nn.Linear(transfer_model.cnn1.fc[0].in_features,500),\n",
        "    nn.ReLU(),\n",
        "    nn.Dropout(),\n",
        "    nn.Linear(500,10)\n",
        "    )"
      ],
      "metadata": {
        "colab": {
          "base_uri": "https://localhost:8080/"
        },
        "id": "Gq_9hEPEhFgP",
        "outputId": "89733de4-3483-47d9-8a79-beba38f0a453"
      },
      "execution_count": null,
      "outputs": [
        {
          "output_type": "stream",
          "name": "stdout",
          "text": [
            "model copied\n",
            "weights are frozen\n"
          ]
        }
      ]
    },
    {
      "cell_type": "code",
      "source": [
        "import time\n",
        "\n",
        "device = torch.device(\"cuda\" if torch.cuda.is_available() else \"cpu\")\n",
        "\n",
        "loss_func = torch.nn.CrossEntropyLoss()\n",
        "optimizer = optim.Adam(transfer_model.parameters())\n",
        "\n",
        "def train_and_validate(model, loss_criterion, optimizer, epochs=25):\n",
        "    '''\n",
        "    Function to train and validate\n",
        "    Parameters\n",
        "        :param model: Model to train and validate\n",
        "        :param loss_criterion: Loss Criterion to minimize\n",
        "        :param optimizer: Optimizer for computing gradients\n",
        "        :param epochs: Number of epochs (default=25)\n",
        "\n",
        "    Returns\n",
        "        model: Trained Model with best validation accuracy\n",
        "        history: (dict object): Having training loss, accuracy and validation loss, accuracy\n",
        "    '''\n",
        "\n",
        "    start = time.time()\n",
        "    history = []\n",
        "    best_loss = 100000.0\n",
        "    best_epoch = None\n",
        "    model = model.to(device)\n",
        "\n",
        "    for epoch in range(epochs):\n",
        "        epoch_start = time.time()\n",
        "        print(\"Epoch: {}/{}\".format(epoch+1, epochs))\n",
        "\n",
        "        # Set to training mode\n",
        "        model.train()\n",
        "\n",
        "        # Loss and Accuracy within the epoch\n",
        "        train_loss = 0.0\n",
        "        train_acc = 0.0\n",
        "\n",
        "        valid_loss = 0.0\n",
        "        valid_acc = 0.0\n",
        "\n",
        "        for i, (inputs, labels) in enumerate(train_data_loader):\n",
        "\n",
        "            inputs = inputs.to(device)\n",
        "            labels = labels.to(device)\n",
        "\n",
        "            # Clean existing gradients\n",
        "            optimizer.zero_grad()\n",
        "\n",
        "            # Forward pass - compute outputs on input data using the model\n",
        "            outputs = model(inputs)\n",
        "\n",
        "            # Compute loss\n",
        "            loss = loss_criterion(outputs, labels)\n",
        "\n",
        "            # Backpropagate the gradients\n",
        "            loss.backward()\n",
        "\n",
        "            # Update the parameters\n",
        "            optimizer.step()\n",
        "\n",
        "            # Compute the total loss for the batch and add it to train_loss\n",
        "            train_loss += loss.item() * inputs.size(0)\n",
        "\n",
        "            # Compute the accuracy\n",
        "            ret, predictions = torch.max(outputs.data, 1)\n",
        "            correct_counts = predictions.eq(labels.data.view_as(predictions))\n",
        "\n",
        "            # Convert correct_counts to float and then compute the mean\n",
        "            acc = torch.mean(correct_counts.type(torch.FloatTensor))\n",
        "\n",
        "            # Compute total accuracy in the whole batch and add to train_acc\n",
        "            train_acc += acc.item() * inputs.size(0)\n",
        "\n",
        "            #print(\"Batch number: {:03d}, Training: Loss: {:.4f}, Accuracy: {:.4f}\".format(i, loss.item(), acc.item()))\n",
        "\n",
        "\n",
        "        # Validation - No gradient tracking needed\n",
        "        with torch.no_grad():\n",
        "\n",
        "            # Set to evaluation mode\n",
        "            model.eval()\n",
        "\n",
        "            # Validation loop\n",
        "            for j, (inputs, labels) in enumerate(test_data_loader):\n",
        "                inputs = inputs.to(device)\n",
        "                labels = labels.to(device)\n",
        "\n",
        "                # Forward pass - compute outputs on input data using the model\n",
        "                outputs = model(inputs)\n",
        "\n",
        "                # Compute loss\n",
        "                loss = loss_criterion(outputs, labels)\n",
        "\n",
        "                # Compute the total loss for the batch and add it to valid_loss\n",
        "                valid_loss += loss.item() * inputs.size(0)\n",
        "\n",
        "                # Calculate validation accuracy\n",
        "                ret, predictions = torch.max(outputs.data, 1)\n",
        "                correct_counts = predictions.eq(labels.data.view_as(predictions))\n",
        "\n",
        "                # Convert correct_counts to float and then compute the mean\n",
        "                acc = torch.mean(correct_counts.type(torch.FloatTensor))\n",
        "\n",
        "                # Compute total accuracy in the whole batch and add to valid_acc\n",
        "                valid_acc += acc.item() * inputs.size(0)\n",
        "\n",
        "                #print(\"Validation Batch number: {:03d}, Validation: Loss: {:.4f}, Accuracy: {:.4f}\".format(j, loss.item(), acc.item()))\n",
        "        if valid_loss < best_loss:\n",
        "            best_loss = valid_loss\n",
        "            best_epoch = epoch\n",
        "\n",
        "        # Find average training loss and training accuracy\n",
        "        avg_train_loss = train_loss/train_data_size\n",
        "        avg_train_acc = train_acc/train_data_size\n",
        "\n",
        "        # Find average training loss and training accuracy\n",
        "        avg_valid_loss = valid_loss/test_data_size\n",
        "        avg_valid_acc = valid_acc/test_data_size\n",
        "\n",
        "        history.append([avg_train_loss, avg_valid_loss, avg_train_acc, avg_valid_acc])\n",
        "\n",
        "        epoch_end = time.time()\n",
        "\n",
        "        print(\"Epoch : {:03d}, Training: Loss - {:.4f}, Accuracy - {:.4f}%, \\n\\t\\tValidation : Loss - {:.4f}, Accuracy - {:.4f}%, Time: {:.4f}s\".format(epoch, avg_train_loss, avg_train_acc*100, avg_valid_loss, avg_valid_acc*100, epoch_end-epoch_start))\n",
        "\n",
        "        # Save if the model has best accuracy till now\n",
        "        #torch.save(model, '_model_'+str(epoch)+'.pt')\n",
        "\n",
        "    return model, history, best_epoch"
      ],
      "metadata": {
        "id": "Cc2Oe8qxhGw6"
      },
      "execution_count": null,
      "outputs": []
    },
    {
      "cell_type": "code",
      "source": [
        "import matplotlib.pyplot as plt\n",
        "import numpy as np\n",
        "\n",
        "num_epochs = 20\n",
        "trained_model, history, best_epoch = train_and_validate(transfer_model, loss_func, optimizer, num_epochs)\n",
        "\n",
        "#torch.save(history, '_history.pt')\n",
        "history = np.array(history)\n",
        "plt.plot(history[:,0:2])\n",
        "plt.legend(['Tr Loss', 'Val Loss'])\n",
        "plt.xlabel('Epoch Number')\n",
        "plt.ylabel('Loss')\n",
        "plt.ylim(0,1)\n",
        "plt.show()\n",
        "plt.plot(history[:,2:4])\n",
        "plt.legend(['Tr Accuracy', 'Val Accuracy'])\n",
        "plt.xlabel('Epoch Number')\n",
        "plt.ylabel('Accuracy')\n",
        "plt.ylim(0,1)\n",
        "plt.show()"
      ],
      "metadata": {
        "colab": {
          "base_uri": "https://localhost:8080/",
          "height": 1000
        },
        "id": "7K_xyf-3hJQN",
        "outputId": "7983bd9c-7aff-41c4-d4fc-6239cbb02963"
      },
      "execution_count": null,
      "outputs": [
        {
          "output_type": "stream",
          "name": "stdout",
          "text": [
            "Epoch: 1/20\n",
            "Epoch : 000, Training: Loss - 1.4179, Accuracy - 53.4247%, \n",
            "\t\tValidation : Loss - 0.2400, Accuracy - 100.0000%, Time: 0.7493s\n",
            "Epoch: 2/20\n",
            "Epoch : 001, Training: Loss - 0.4517, Accuracy - 83.5616%, \n",
            "\t\tValidation : Loss - 0.0297, Accuracy - 100.0000%, Time: 0.4373s\n",
            "Epoch: 3/20\n",
            "Epoch : 002, Training: Loss - 0.1420, Accuracy - 97.2603%, \n",
            "\t\tValidation : Loss - 0.0153, Accuracy - 100.0000%, Time: 0.5817s\n",
            "Epoch: 4/20\n",
            "Epoch : 003, Training: Loss - 0.2224, Accuracy - 91.7808%, \n",
            "\t\tValidation : Loss - 0.0020, Accuracy - 100.0000%, Time: 0.4316s\n",
            "Epoch: 5/20\n",
            "Epoch : 004, Training: Loss - 0.1258, Accuracy - 95.8904%, \n",
            "\t\tValidation : Loss - 0.0069, Accuracy - 100.0000%, Time: 0.4356s\n",
            "Epoch: 6/20\n",
            "Epoch : 005, Training: Loss - 0.3000, Accuracy - 93.1507%, \n",
            "\t\tValidation : Loss - 0.0010, Accuracy - 100.0000%, Time: 0.4318s\n",
            "Epoch: 7/20\n",
            "Epoch : 006, Training: Loss - 0.0657, Accuracy - 98.6301%, \n",
            "\t\tValidation : Loss - 0.0022, Accuracy - 100.0000%, Time: 0.5207s\n",
            "Epoch: 8/20\n",
            "Epoch : 007, Training: Loss - 0.2017, Accuracy - 91.7808%, \n",
            "\t\tValidation : Loss - 0.0023, Accuracy - 100.0000%, Time: 0.5039s\n",
            "Epoch: 9/20\n",
            "Epoch : 008, Training: Loss - 0.1003, Accuracy - 95.8904%, \n",
            "\t\tValidation : Loss - 0.0002, Accuracy - 100.0000%, Time: 0.6801s\n",
            "Epoch: 10/20\n",
            "Epoch : 009, Training: Loss - 0.0525, Accuracy - 98.6301%, \n",
            "\t\tValidation : Loss - 0.0003, Accuracy - 100.0000%, Time: 0.6376s\n",
            "Epoch: 11/20\n",
            "Epoch : 010, Training: Loss - 0.0645, Accuracy - 98.6301%, \n",
            "\t\tValidation : Loss - 0.0001, Accuracy - 100.0000%, Time: 0.5535s\n",
            "Epoch: 12/20\n",
            "Epoch : 011, Training: Loss - 0.0383, Accuracy - 100.0000%, \n",
            "\t\tValidation : Loss - 0.0003, Accuracy - 100.0000%, Time: 0.5753s\n",
            "Epoch: 13/20\n",
            "Epoch : 012, Training: Loss - 0.0954, Accuracy - 97.2603%, \n",
            "\t\tValidation : Loss - 0.0001, Accuracy - 100.0000%, Time: 0.4099s\n",
            "Epoch: 14/20\n",
            "Epoch : 013, Training: Loss - 0.0870, Accuracy - 95.8904%, \n",
            "\t\tValidation : Loss - 0.0016, Accuracy - 100.0000%, Time: 0.3967s\n",
            "Epoch: 15/20\n",
            "Epoch : 014, Training: Loss - 0.3066, Accuracy - 89.0411%, \n",
            "\t\tValidation : Loss - 0.0001, Accuracy - 100.0000%, Time: 0.3997s\n",
            "Epoch: 16/20\n",
            "Epoch : 015, Training: Loss - 0.0968, Accuracy - 98.6301%, \n",
            "\t\tValidation : Loss - 0.0009, Accuracy - 100.0000%, Time: 0.3920s\n",
            "Epoch: 17/20\n",
            "Epoch : 016, Training: Loss - 0.2015, Accuracy - 93.1507%, \n",
            "\t\tValidation : Loss - 0.0001, Accuracy - 100.0000%, Time: 0.3942s\n",
            "Epoch: 18/20\n",
            "Epoch : 017, Training: Loss - 0.0527, Accuracy - 98.6301%, \n",
            "\t\tValidation : Loss - 0.0000, Accuracy - 100.0000%, Time: 0.3987s\n",
            "Epoch: 19/20\n",
            "Epoch : 018, Training: Loss - 0.0471, Accuracy - 98.6301%, \n",
            "\t\tValidation : Loss - 0.0000, Accuracy - 100.0000%, Time: 0.4007s\n",
            "Epoch: 20/20\n",
            "Epoch : 019, Training: Loss - 0.0329, Accuracy - 98.6301%, \n",
            "\t\tValidation : Loss - 0.0035, Accuracy - 100.0000%, Time: 0.3946s\n"
          ]
        },
        {
          "output_type": "display_data",
          "data": {
            "text/plain": [
              "<Figure size 640x480 with 1 Axes>"
            ],
            "image/png": "[encoded data removed]"
          },
          "metadata": {}
        },
        {
          "output_type": "display_data",
          "data": {
            "text/plain": [
              "<Figure size 640x480 with 1 Axes>"
            ],
            "image/png": "[encoded data removed]"
          },
          "metadata": {}
        }
      ]
    },
    {
      "cell_type": "code",
      "source": [
        "import torch\n",
        "from torchvision import datasets, transforms\n",
        "\n",
        "dataloader = train_dataloader\n",
        "classes = data_path.classes\n",
        "\n",
        "# Функция для извлечения признаков\n",
        "def extract_features(model, dataloader):\n",
        "    model.eval()\n",
        "    all_features = []\n",
        "    all_labels = []\n",
        "    with torch.no_grad():\n",
        "        for images, labels in dataloader:\n",
        "            images = images.cuda()\n",
        "            features = model(images)\n",
        "            all_features.append(features.cpu())\n",
        "            all_labels.append(labels)\n",
        "    all_features = torch.cat(all_features, dim=0)\n",
        "    all_labels = torch.cat(all_labels, dim=0)\n",
        "    return all_features, all_labels\n",
        "\n",
        "features, labels = extract_features(net, dataloader)"
      ],
      "metadata": {
        "id": "cVYYvFuSPoMT"
      },
      "execution_count": null,
      "outputs": []
    },
    {
      "cell_type": "code",
      "source": [
        "from torch.utils.tensorboard import SummaryWriter\n",
        "\n",
        "# default `log_dir` is \"runs\" - we'll be more specific here\n",
        "writer = SummaryWriter('logs/pepper')"
      ],
      "metadata": {
        "id": "XqSlPNzfPpjf"
      },
      "execution_count": null,
      "outputs": []
    },
    {
      "cell_type": "code",
      "source": [
        "class_labels = [classes[lab] for lab in labels]\n",
        "\n",
        "# log embeddings\n",
        "writer.add_embedding(features,\n",
        "                    metadata=class_labels,\n",
        "                    global_step=0)\n",
        "writer.close()"
      ],
      "metadata": {
        "id": "NXlSBZn5PqyF"
      },
      "execution_count": null,
      "outputs": []
    },
    {
      "cell_type": "code",
      "source": [
        "%load_ext tensorboard\n",
        "\n",
        "%tensorboard --logdir logs"
      ],
      "metadata": {
        "id": "NxkRDbdMPr2P"
      },
      "execution_count": null,
      "outputs": []
    }
  ]
}